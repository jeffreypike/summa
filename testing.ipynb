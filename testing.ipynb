{
 "cells": [
  {
   "cell_type": "code",
   "execution_count": 1,
   "id": "c7d65c4e",
   "metadata": {
    "_cell_guid": "b1076dfc-b9ad-4769-8c92-a6c4dae69d19",
    "_uuid": "8f2839f25d086af736a60e9eeb907d3b93b6e0e5",
    "execution": {
     "iopub.execute_input": "2024-03-03T01:50:02.443817Z",
     "iopub.status.busy": "2024-03-03T01:50:02.443099Z",
     "iopub.status.idle": "2024-03-03T01:50:04.558290Z",
     "shell.execute_reply": "2024-03-03T01:50:04.556881Z"
    },
    "papermill": {
     "duration": 2.122636,
     "end_time": "2024-03-03T01:50:04.561221",
     "exception": false,
     "start_time": "2024-03-03T01:50:02.438585",
     "status": "completed"
    },
    "tags": []
   },
   "outputs": [],
   "source": [
    "import polars\n",
    "import plotly.express as px"
   ]
  },
  {
   "cell_type": "code",
   "execution_count": null,
   "id": "71fdd449",
   "metadata": {
    "papermill": {
     "duration": 0.00166,
     "end_time": "2024-03-03T01:50:04.565188",
     "exception": false,
     "start_time": "2024-03-03T01:50:04.563528",
     "status": "completed"
    },
    "tags": []
   },
   "outputs": [],
   "source": []
  }
 ],
 "metadata": {
  "kaggle": {
   "accelerator": "none",
   "dataSources": [],
   "dockerImageVersionId": 30664,
   "isGpuEnabled": false,
   "isInternetEnabled": true,
   "language": "python",
   "sourceType": "notebook"
  },
  "kernelspec": {
   "display_name": "Python 3",
   "language": "python",
   "name": "python3"
  },
  "language_info": {
   "codemirror_mode": {
    "name": "ipython",
    "version": 3
   },
   "file_extension": ".py",
   "mimetype": "text/x-python",
   "name": "python",
   "nbconvert_exporter": "python",
   "pygments_lexer": "ipython3",
   "version": "3.10.13"
  },
  "papermill": {
   "default_parameters": {},
   "duration": 6.049833,
   "end_time": "2024-03-03T01:50:05.190089",
   "environment_variables": {},
   "exception": null,
   "input_path": "__notebook__.ipynb",
   "output_path": "__notebook__.ipynb",
   "parameters": {},
   "start_time": "2024-03-03T01:49:59.140256",
   "version": "2.5.0"
  }
 },
 "nbformat": 4,
 "nbformat_minor": 5
}
